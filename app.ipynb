{
 "cells": [
  {
   "cell_type": "code",
   "execution_count": 1,
   "id": "1b0ae09b-de80-4d6f-acb1-4f65098dbf29",
   "metadata": {},
   "outputs": [],
   "source": [
    "from copyreg import pickle\n",
    "from unittest import result\n",
    "from flask import Flask,render_template\n",
    "from requests import request\n",
    "from sklearn.datasets import load_iris\n",
    "import pickle\n",
    "from flask import request"
   ]
  },
  {
   "cell_type": "code",
   "execution_count": 2,
   "id": "c766708d-0048-4731-bdac-1d426ed12091",
   "metadata": {},
   "outputs": [],
   "source": [
    "app=Flask('first',template_folder='templates')\n",
    "loaded_model = pickle.load(open('model.pkl', 'rb'))"
   ]
  },
  {
   "cell_type": "code",
   "execution_count": 3,
   "id": "cd7523bb-1001-4ca4-8571-b43cec88f6b7",
   "metadata": {},
   "outputs": [],
   "source": [
    "@app.route('/', methods=['GET'])\n",
    "def home():\n",
    "    return render_template(\"home.html\")"
   ]
  },
  {
   "cell_type": "code",
   "execution_count": 4,
   "id": "132ca915-a78f-435c-9c0a-148f6b1d063a",
   "metadata": {},
   "outputs": [],
   "source": [
    "#4route prediction\n",
    "@app.route('/predict',methods=['POST'])\n",
    "def predict():\n",
    "    Sex=request.form['Sex']\n",
    "    Embarked=request.form['Embarked']\n",
    "    Fare_Category=request.form['Fare Category']\n",
    "    \n",
    "    #take input from user form put in arry\n",
    "    form_arry=np.array([[Sex,Embarked,Fare_Category]])\n",
    "    \n",
    "    #predict on arry of user input form\n",
    "    loaded_model = pickle.load(open('model.pkl', 'rb'))\n",
    "    prediction=loaded_model.predict(np.array(form_arry.astype(str)))\n",
    "    classes = [\"deceased\",\"survived\"]\n",
    "    result = classes[int(prediction)]\n",
    "#     if  int(prediction)== 0:\n",
    "#         result=\"deceased\"\n",
    "#     else:\n",
    "#         result=\"survived\"  \n",
    " \n",
    "    return render_template(\"result.html\",result=result)"
   ]
  },
  {
   "cell_type": "code",
   "execution_count": 5,
   "id": "8e57aa71-3f3b-4fdf-9877-9c82469f0926",
   "metadata": {},
   "outputs": [
    {
     "name": "stdout",
     "output_type": "stream",
     "text": [
      " * Serving Flask app 'first' (lazy loading)\n",
      " * Environment: production\n",
      "\u001b[31m   WARNING: This is a development server. Do not use it in a production deployment.\u001b[0m\n",
      "\u001b[2m   Use a production WSGI server instead.\u001b[0m\n",
      " * Debug mode: on\n"
     ]
    },
    {
     "name": "stderr",
     "output_type": "stream",
     "text": [
      " * Running on http://127.0.0.1:5000 (Press CTRL+C to quit)\n",
      " * Restarting with stat\n"
     ]
    },
    {
     "ename": "SystemExit",
     "evalue": "1",
     "output_type": "error",
     "traceback": [
      "An exception has occurred, use %tb to see the full traceback.\n",
      "\u001b[1;31mSystemExit\u001b[0m\u001b[1;31m:\u001b[0m 1\n"
     ]
    },
    {
     "name": "stderr",
     "output_type": "stream",
     "text": [
      "c:\\Users\\20100\\AppData\\Local\\Programs\\Python\\Python310\\lib\\site-packages\\IPython\\core\\interactiveshell.py:3406: UserWarning: To exit: use 'exit', 'quit', or Ctrl-D.\n",
      "  warn(\"To exit: use 'exit', 'quit', or Ctrl-D.\", stacklevel=1)\n"
     ]
    }
   ],
   "source": [
    "if __name__ == '__main__':\n",
    "    app.run(debug=True)"
   ]
  },
  {
   "cell_type": "code",
   "execution_count": null,
   "id": "4f2a1885-9694-4236-a3be-8921bcb2846f",
   "metadata": {},
   "outputs": [],
   "source": []
  }
 ],
 "metadata": {
  "kernelspec": {
   "display_name": "Python 3 (ipykernel)",
   "language": "python",
   "name": "python3"
  },
  "language_info": {
   "codemirror_mode": {
    "name": "ipython",
    "version": 3
   },
   "file_extension": ".py",
   "mimetype": "text/x-python",
   "name": "python",
   "nbconvert_exporter": "python",
   "pygments_lexer": "ipython3",
   "version": "3.10.2"
  },
  "vscode": {
   "interpreter": {
    "hash": "2f3ca8b751467a81c940579041ea75801fc88c56383a5fef6d64edce3c542cfd"
   }
  }
 },
 "nbformat": 4,
 "nbformat_minor": 5
}
