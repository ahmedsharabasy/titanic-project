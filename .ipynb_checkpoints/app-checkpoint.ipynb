{
 "cells": [
  {
   "cell_type": "code",
   "execution_count": 22,
   "id": "1b0ae09b-de80-4d6f-acb1-4f65098dbf29",
   "metadata": {},
   "outputs": [],
   "source": [
    "from copyreg import pickle\n",
    "from unittest import result\n",
    "from flask import Flask,render_template\n",
    "from requests import request\n",
    "from sklearn.datasets import load_iris\n",
    "import pickle\n",
    "from flask import request"
   ]
  },
  {
   "cell_type": "code",
   "execution_count": 23,
   "id": "c766708d-0048-4731-bdac-1d426ed12091",
   "metadata": {},
   "outputs": [],
   "source": [
    "app=Flask(__name__, template_folder='templates')\n",
    "loaded_model = pickle.load(open('model.pkl', 'rb'))"
   ]
  },
  {
   "cell_type": "code",
   "execution_count": 24,
   "id": "cd7523bb-1001-4ca4-8571-b43cec88f6b7",
   "metadata": {},
   "outputs": [],
   "source": [
    "@app.route(\"/\")\n",
    "def home():\n",
    "    return render_template(\"home.html\")"
   ]
  },
  {
   "cell_type": "code",
   "execution_count": 25,
   "id": "132ca915-a78f-435c-9c0a-148f6b1d063a",
   "metadata": {},
   "outputs": [],
   "source": [
    "#4route prediction\n",
    "@app.route(\"/predict\",methods=[\"get\",\"post\"])\n",
    "def predict():\n",
    "    Sex=request.form['Sex']\n",
    "    Embarked=request.form['Embarked']\n",
    "    Fare_Category=request.form['Fare Category']\n",
    "    \n",
    "    #take input from user form put in arry\n",
    "    form_arry=np.array([[Sex,Embarked,Fare_Category]])\n",
    "    \n",
    "    #predict on arry of user input form\n",
    "    loaded_model = pickle.load(open('model.pkl', 'rb'))\n",
    "    prediction=loaded_model.predict(np.array(form_arry.astype(str)))\n",
    "    classes = [\"deceased\",\"survived\"]\n",
    "    result = classes[int(prediction)]\n",
    "    if  int(prediction)== 0:\n",
    "        result=\"deceased\"\n",
    "    elif:\n",
    "        result=\"survived\"  \n",
    " \n",
    "    return render_template(\"result.html\",result=result)\n"
   ]
  },
  {
   "cell_type": "code",
   "execution_count": null,
   "id": "8e57aa71-3f3b-4fdf-9877-9c82469f0926",
   "metadata": {},
   "outputs": [],
   "source": []
  }
 ],
 "metadata": {
  "kernelspec": {
   "display_name": "Python 3 (ipykernel)",
   "language": "python",
   "name": "python3"
  },
  "language_info": {
   "codemirror_mode": {
    "name": "ipython",
    "version": 3
   },
   "file_extension": ".py",
   "mimetype": "text/x-python",
   "name": "python",
   "nbconvert_exporter": "python",
   "pygments_lexer": "ipython3",
   "version": "3.10.2"
  }
 },
 "nbformat": 4,
 "nbformat_minor": 5
}
